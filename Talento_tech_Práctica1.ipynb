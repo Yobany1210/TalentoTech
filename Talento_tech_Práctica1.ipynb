{
  "nbformat": 4,
  "nbformat_minor": 0,
  "metadata": {
    "colab": {
      "provenance": [],
      "toc_visible": true,
      "include_colab_link": true
    },
    "kernelspec": {
      "name": "python3",
      "display_name": "Python 3"
    }
  },
  "cells": [
    {
      "cell_type": "markdown",
      "metadata": {
        "id": "view-in-github",
        "colab_type": "text"
      },
      "source": [
        "<a href=\"https://colab.research.google.com/github/Yobany1210/TalentoTech/blob/main/Talento_tech_Pr%C3%A1ctica1.ipynb\" target=\"_parent\"><img src=\"https://colab.research.google.com/assets/colab-badge.svg\" alt=\"Open In Colab\"/></a>"
      ]
    },
    {
      "cell_type": "markdown",
      "source": [
        "Práctica 1 de Talento Tech: incluye import un Dataset"
      ],
      "metadata": {
        "id": "XmqxOD_HEmMZ"
      }
    },
    {
      "cell_type": "code",
      "source": [
        "# Paso 1: Impor la libreria requerida\n",
        "# Paso 2: Debo tener el archivo en una carpeta\n",
        "# Paso 3: Debo establecer una conexión con la carpeta\n",
        "# Paso 4: Ejecute la celda de la conexión y revisar que este Ok\n"
      ],
      "metadata": {
        "id": "KtRVX4RdFgEi"
      },
      "execution_count": 1,
      "outputs": []
    },
    {
      "cell_type": "markdown",
      "source": [
        "\n",
        "\n",
        "> Ingreso de nuevo los datos\n",
        "\n"
      ],
      "metadata": {
        "id": "QPG_e8XsGyx7"
      }
    },
    {
      "cell_type": "code",
      "source": [
        "from google.colab import drive # Traemos la clase drive, dentro del módulo colab, del paquete google\n",
        "drive.mount('/content/drive') # Establecemos la conexión através del método mount"
      ],
      "metadata": {
        "id": "bbrLKHb-SU43",
        "colab": {
          "base_uri": "https://localhost:8080/"
        },
        "outputId": "cc71284a-634f-429b-f640-5fe2742df4bb"
      },
      "execution_count": 2,
      "outputs": [
        {
          "output_type": "stream",
          "name": "stdout",
          "text": [
            "Mounted at /content/drive\n"
          ]
        }
      ]
    },
    {
      "cell_type": "code",
      "source": [
        "# Establezco la connección con la fuente y con el Dataset de prueba\n",
        "path = '/content/drive/MyDrive/Colab Notebooks/Telento Tech/Actividad 1 Ventas.xlsx'"
      ],
      "metadata": {
        "id": "ft65tvglpkkm"
      },
      "execution_count": 3,
      "outputs": []
    },
    {
      "cell_type": "code",
      "source": [
        "# Importamos la libreria para la manipulación de Datos llamada pandas\n",
        "import pandas as pd\n"
      ],
      "metadata": {
        "id": "C4jg42K5r5iJ"
      },
      "execution_count": 4,
      "outputs": []
    },
    {
      "cell_type": "code",
      "source": [
        "# Creamos una DataFreme de pandas con los datos administrados\n",
        "df = pd.read_excel(path)"
      ],
      "metadata": {
        "id": "UH-Orq0rxGo2"
      },
      "execution_count": 5,
      "outputs": []
    },
    {
      "cell_type": "code",
      "source": [
        "# Ejercicio 1: mostrar las primeras filas del Datafremes\n",
        "print('Ejercicio 1: mostrar las primeras filas del Datafremes')\n",
        "print(df.head(10))\n",
        "#print(\"\\n\")"
      ],
      "metadata": {
        "id": "s8zwyU15eoIC"
      },
      "execution_count": null,
      "outputs": []
    },
    {
      "cell_type": "code",
      "source": [
        "# Ejercicio 2: calcular el total de ventas por región\n",
        "print('Ejercicio 2: calcular el total de ventas por región')\n",
        "ventas_por_region = df.groupby('Region')['Ventas'].mean()\n",
        "print(ventas_por_region)\n",
        "print(\"\\n\")\n",
        "print(df.head(10))\n"
      ],
      "metadata": {
        "id": "brTzTR_XthRZ"
      },
      "execution_count": null,
      "outputs": []
    },
    {
      "cell_type": "markdown",
      "source": [
        "Creación y Lectura del DataFrames:"
      ],
      "metadata": {
        "id": "jfJZfvOxHvjx"
      }
    },
    {
      "cell_type": "code",
      "source": [
        "df.head()"
      ],
      "metadata": {
        "id": "chZ1iAFPPLky"
      },
      "execution_count": null,
      "outputs": []
    },
    {
      "cell_type": "code",
      "source": [
        "df.tail()"
      ],
      "metadata": {
        "id": "wpfAy_a2QYXC"
      },
      "execution_count": null,
      "outputs": []
    },
    {
      "cell_type": "code",
      "source": [
        "df.info()"
      ],
      "metadata": {
        "id": "8otGISzQQh51"
      },
      "execution_count": null,
      "outputs": []
    },
    {
      "cell_type": "code",
      "source": [
        "df.describe()"
      ],
      "metadata": {
        "id": "NgDNL2YDQx61"
      },
      "execution_count": null,
      "outputs": []
    }
  ]
}